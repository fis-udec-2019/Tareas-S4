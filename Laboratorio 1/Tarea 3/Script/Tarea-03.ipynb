{
 "cells": [
  {
   "cell_type": "code",
   "execution_count": 1,
   "id": "e4c9fc9b",
   "metadata": {},
   "outputs": [],
   "source": [
    "import numpy as np\n",
    "import matplotlib.pyplot as plt"
   ]
  },
  {
   "cell_type": "markdown",
   "id": "0818955a",
   "metadata": {},
   "source": [
    "# C. Utilizando Python, confeccione un histograma de los datos."
   ]
  },
  {
   "cell_type": "code",
   "execution_count": null,
   "id": "c2f719d8",
   "metadata": {},
   "outputs": [],
   "source": []
  },
  {
   "cell_type": "markdown",
   "id": "cae14f1d",
   "metadata": {},
   "source": [
    "\n",
    "\n",
    "### El promedio de cada tiempo se calcula como : \n",
    "\\begin{equation}\n",
    "\\bar{T_{j}} =  \\frac{1}{N}\\sum_{i=1}^{N} T_{ji} \\ , \\   \\   j = {1,2}\n",
    "\\end{equation}\n"
   ]
  },
  {
   "cell_type": "code",
   "execution_count": null,
   "id": "a19ab6b1",
   "metadata": {},
   "outputs": [],
   "source": []
  },
  {
   "cell_type": "markdown",
   "id": "6385cef6",
   "metadata": {},
   "source": [
    "### Por otro lado, la desviación estandar se calcula como: \n",
    "\\begin{equation}\n",
    "s_{j} = \\sqrt{\\frac{1}{N-1}\\sum_{i=1}^{N} (T_{ij}- \\bar{T_{j}})^2}  \\ , \\   \\   j = {1,2}\n",
    "\\end{equation}\n"
   ]
  },
  {
   "cell_type": "code",
   "execution_count": null,
   "id": "1f4b008a",
   "metadata": {},
   "outputs": [],
   "source": []
  }
 ],
 "metadata": {
  "kernelspec": {
   "display_name": "Python 3 (ipykernel)",
   "language": "python",
   "name": "python3"
  },
  "language_info": {
   "codemirror_mode": {
    "name": "ipython",
    "version": 3
   },
   "file_extension": ".py",
   "mimetype": "text/x-python",
   "name": "python",
   "nbconvert_exporter": "python",
   "pygments_lexer": "ipython3",
   "version": "3.9.7"
  }
 },
 "nbformat": 4,
 "nbformat_minor": 5
}
